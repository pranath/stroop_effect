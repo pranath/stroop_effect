{
 "cells": [
  {
   "cell_type": "markdown",
   "metadata": {},
   "source": [
    "# Analyzing the Stroop Effect\n",
    "\n",
    "### Introduction\n",
    "\n",
    "<a href=\"http://imbs.uci.edu/~kjameson/ECST/MacLeod_TheStroopEffect.pdf\" target=\"_blank\">The Stroop effect</a> is a classic result of experimental psychology, it is a phenomenon that occurs when you must say the color of a word but not the name of the word. For example, blue might be printed in red and you must say the color rather than the word. \n",
    "\n",
    "While it might sound simple, the Stroop effect refers to the delayed reaction times when the color of the word doesn't match the name of the word. It's easier to say the color of a word if it matches the semantic meaning of the word. For example, if someone asked you to say the color of the word \"black\" that was also printed in black ink, it would be much easier to say the correct color than if it were printed in green ink.\n",
    "\n",
    "The task demonstrates the effect that interference can have when it comes to reaction time. It was first described during the 1930s by American psychologist John Ridley Stroop for whom the phenomenon is named. His original paper describing the effect has become one of the most famous, as well as one of the most frequently cited, in the history of psychology. The effect has been replicated hundreds of times by other researchers.\n",
    "\n",
    "In this analysis, I will take a dataset of observations conducted as a series of tests on such stimuli as described above, which will allow us to then perform certain statistical tests in order to verify (or refute!) the Stroop Effect.\n",
    "\n",
    "The dataset is a csv file that consists of two variables:"
   ]
  },
  {
   "cell_type": "markdown",
   "metadata": {},
   "source": [
    "- Independant variable: is the congruency of the colour and text\n",
    "- Dependant variable: duration (time) to recognise the colours or the texts"
   ]
  },
  {
   "cell_type": "markdown",
   "metadata": {},
   "source": [
    "### Methodology"
   ]
  },
  {
   "cell_type": "markdown",
   "metadata": {},
   "source": [
    "So to test this phenomenon, we want to be sure that in the case where the name & colour are different (Incongruent), that the mean response time is definately greater than the case where the name & colour are the same (Congruent). So it would be helpful to form our hypothesis so we can clearly separate these two types of cases in a mutually exclusive way.\n",
    "\n",
    "To do this, we could use the following hypotheses:\n",
    "\n",
    "- Null: The population mean reaction time will be equal to or less where text where the name & colour are Incongruent (compared to where the name & colour are Congruent)\n",
    "- Alternative: The population mean reaction time will be greater for the text where the name & colour are Incongruent\n",
    "\n",
    "Or using notation:\n",
    "\n",
    "$$H_0: \\mu_{Congruent} - \\mu_{Incongruent} >= 0$$"
   ]
  },
  {
   "cell_type": "markdown",
   "metadata": {},
   "source": [
    "$$H_1: \\mu_{Congruent} - \\mu_{Incongruent} < 0$$\n",
    "\n",
    "Where **$\\mu_{Congruent}$** is the population mean reaction time for the case where the name and colour are the same, and **$\\mu_{Incongruent}$** is the population mean reaction time for the case where the name and colour are different.\n",
    "\n",
    "By forming our hypotheses in this way, we ensure we only reject the null hypothesis (that there is no stroop effect) only if the case of the name & colour being different results in longer times (which is the defined stroop effect). In other words, we have ensured that our hypotheses most simply tests the proposition that either:\n",
    "\n",
    "- There is no stroop effect (null)\n",
    "\n",
    "OR\n",
    "\n",
    "- There is a stroop effect (alternative)\n",
    "\n",
    "To test these hypotheses, I will use a paired t-test. To use this test I will assume that that both the Congruent and Incongruent population sample mean distributions are normally distributed (ie the assumption of normality) and that the observations for each of these are paired & that each pair is independant (i.e. related to different conditions for the same stimulus).\n",
    "\n",
    "Also considering the work of Bart et al (1998) on how large sample sizes should be for a t-test, he found that for moderately skewed or bimodal populations, the sample size should exceed 10, whilst for highly skewed populations the same size should exceed 20. It is also mentioned that these guidlines should be treated with caution especially if we have extereme outliers or large numbers of zeros in the data. \n",
    "\n",
    "Considering our sample size:"
   ]
  },
  {
   "cell_type": "code",
   "execution_count": 5,
   "metadata": {},
   "outputs": [
    {
     "data": {
      "text/plain": [
       "(24, 2)"
      ]
     },
     "execution_count": 5,
     "metadata": {},
     "output_type": "execute_result"
    }
   ],
   "source": [
    "import pandas as pd\n",
    "\n",
    "df = pd.read_csv('stroopdata.csv')\n",
    "df.shape"
   ]
  },
  {
   "cell_type": "markdown",
   "metadata": {},
   "source": [
    "This exceeds Bart's recommended sample size of 20.\n",
    "\n",
    "Considering outliers:"
   ]
  },
  {
   "cell_type": "code",
   "execution_count": 7,
   "metadata": {},
   "outputs": [
    {
     "data": {
      "text/html": [
       "<div>\n",
       "<style>\n",
       "    .dataframe thead tr:only-child th {\n",
       "        text-align: right;\n",
       "    }\n",
       "\n",
       "    .dataframe thead th {\n",
       "        text-align: left;\n",
       "    }\n",
       "\n",
       "    .dataframe tbody tr th {\n",
       "        vertical-align: top;\n",
       "    }\n",
       "</style>\n",
       "<table border=\"1\" class=\"dataframe\">\n",
       "  <thead>\n",
       "    <tr style=\"text-align: right;\">\n",
       "      <th></th>\n",
       "      <th>Congruent</th>\n",
       "      <th>Incongruent</th>\n",
       "    </tr>\n",
       "  </thead>\n",
       "  <tbody>\n",
       "    <tr>\n",
       "      <th>count</th>\n",
       "      <td>24.000000</td>\n",
       "      <td>24.000000</td>\n",
       "    </tr>\n",
       "    <tr>\n",
       "      <th>mean</th>\n",
       "      <td>14.051125</td>\n",
       "      <td>22.015917</td>\n",
       "    </tr>\n",
       "    <tr>\n",
       "      <th>std</th>\n",
       "      <td>3.559358</td>\n",
       "      <td>4.797057</td>\n",
       "    </tr>\n",
       "    <tr>\n",
       "      <th>min</th>\n",
       "      <td>8.630000</td>\n",
       "      <td>15.687000</td>\n",
       "    </tr>\n",
       "    <tr>\n",
       "      <th>25%</th>\n",
       "      <td>11.895250</td>\n",
       "      <td>18.716750</td>\n",
       "    </tr>\n",
       "    <tr>\n",
       "      <th>50%</th>\n",
       "      <td>14.356500</td>\n",
       "      <td>21.017500</td>\n",
       "    </tr>\n",
       "    <tr>\n",
       "      <th>75%</th>\n",
       "      <td>16.200750</td>\n",
       "      <td>24.051500</td>\n",
       "    </tr>\n",
       "    <tr>\n",
       "      <th>max</th>\n",
       "      <td>22.328000</td>\n",
       "      <td>35.255000</td>\n",
       "    </tr>\n",
       "  </tbody>\n",
       "</table>\n",
       "</div>"
      ],
      "text/plain": [
       "       Congruent  Incongruent\n",
       "count  24.000000    24.000000\n",
       "mean   14.051125    22.015917\n",
       "std     3.559358     4.797057\n",
       "min     8.630000    15.687000\n",
       "25%    11.895250    18.716750\n",
       "50%    14.356500    21.017500\n",
       "75%    16.200750    24.051500\n",
       "max    22.328000    35.255000"
      ]
     },
     "execution_count": 7,
     "metadata": {},
     "output_type": "execute_result"
    }
   ],
   "source": [
    "df.describe()"
   ]
  },
  {
   "cell_type": "markdown",
   "metadata": {},
   "source": [
    "There seem to be no huge outliers in our dataset. \n",
    "\n",
    "Considering zeros in our data:"
   ]
  },
  {
   "cell_type": "code",
   "execution_count": 17,
   "metadata": {},
   "outputs": [
    {
     "data": {
      "text/html": [
       "<div>\n",
       "<style>\n",
       "    .dataframe thead tr:only-child th {\n",
       "        text-align: right;\n",
       "    }\n",
       "\n",
       "    .dataframe thead th {\n",
       "        text-align: left;\n",
       "    }\n",
       "\n",
       "    .dataframe tbody tr th {\n",
       "        vertical-align: top;\n",
       "    }\n",
       "</style>\n",
       "<table border=\"1\" class=\"dataframe\">\n",
       "  <thead>\n",
       "    <tr style=\"text-align: right;\">\n",
       "      <th></th>\n",
       "      <th>Congruent</th>\n",
       "      <th>Incongruent</th>\n",
       "    </tr>\n",
       "  </thead>\n",
       "  <tbody>\n",
       "  </tbody>\n",
       "</table>\n",
       "</div>"
      ],
      "text/plain": [
       "Empty DataFrame\n",
       "Columns: [Congruent, Incongruent]\n",
       "Index: []"
      ]
     },
     "execution_count": 17,
     "metadata": {},
     "output_type": "execute_result"
    }
   ],
   "source": [
    "df_zeros = df[(df.T == 0).any()]\n",
    "df_zeros"
   ]
  },
  {
   "cell_type": "markdown",
   "metadata": {},
   "source": [
    "We seem to have no zeros in our data set. Therefore with these assumptions, I propose to use the paired t-test on the given data set."
   ]
  },
  {
   "cell_type": "markdown",
   "metadata": {},
   "source": [
    "### Analysis"
   ]
  },
  {
   "cell_type": "code",
   "execution_count": 4,
   "metadata": {},
   "outputs": [
    {
     "data": {
      "text/html": [
       "<div>\n",
       "<style>\n",
       "    .dataframe thead tr:only-child th {\n",
       "        text-align: right;\n",
       "    }\n",
       "\n",
       "    .dataframe thead th {\n",
       "        text-align: left;\n",
       "    }\n",
       "\n",
       "    .dataframe tbody tr th {\n",
       "        vertical-align: top;\n",
       "    }\n",
       "</style>\n",
       "<table border=\"1\" class=\"dataframe\">\n",
       "  <thead>\n",
       "    <tr style=\"text-align: right;\">\n",
       "      <th></th>\n",
       "      <th>Congruent</th>\n",
       "      <th>Incongruent</th>\n",
       "    </tr>\n",
       "  </thead>\n",
       "  <tbody>\n",
       "    <tr>\n",
       "      <th>0</th>\n",
       "      <td>12.079</td>\n",
       "      <td>19.278</td>\n",
       "    </tr>\n",
       "    <tr>\n",
       "      <th>1</th>\n",
       "      <td>16.791</td>\n",
       "      <td>18.741</td>\n",
       "    </tr>\n",
       "    <tr>\n",
       "      <th>2</th>\n",
       "      <td>9.564</td>\n",
       "      <td>21.214</td>\n",
       "    </tr>\n",
       "    <tr>\n",
       "      <th>3</th>\n",
       "      <td>8.630</td>\n",
       "      <td>15.687</td>\n",
       "    </tr>\n",
       "    <tr>\n",
       "      <th>4</th>\n",
       "      <td>14.669</td>\n",
       "      <td>22.803</td>\n",
       "    </tr>\n",
       "  </tbody>\n",
       "</table>\n",
       "</div>"
      ],
      "text/plain": [
       "   Congruent  Incongruent\n",
       "0     12.079       19.278\n",
       "1     16.791       18.741\n",
       "2      9.564       21.214\n",
       "3      8.630       15.687\n",
       "4     14.669       22.803"
      ]
     },
     "execution_count": 4,
     "metadata": {},
     "output_type": "execute_result"
    }
   ],
   "source": [
    "df.head()"
   ]
  },
  {
   "cell_type": "code",
   "execution_count": 5,
   "metadata": {},
   "outputs": [
    {
     "data": {
      "text/html": [
       "<div>\n",
       "<style>\n",
       "    .dataframe thead tr:only-child th {\n",
       "        text-align: right;\n",
       "    }\n",
       "\n",
       "    .dataframe thead th {\n",
       "        text-align: left;\n",
       "    }\n",
       "\n",
       "    .dataframe tbody tr th {\n",
       "        vertical-align: top;\n",
       "    }\n",
       "</style>\n",
       "<table border=\"1\" class=\"dataframe\">\n",
       "  <thead>\n",
       "    <tr style=\"text-align: right;\">\n",
       "      <th></th>\n",
       "      <th>Congruent</th>\n",
       "      <th>Incongruent</th>\n",
       "    </tr>\n",
       "  </thead>\n",
       "  <tbody>\n",
       "    <tr>\n",
       "      <th>count</th>\n",
       "      <td>24.000000</td>\n",
       "      <td>24.000000</td>\n",
       "    </tr>\n",
       "    <tr>\n",
       "      <th>mean</th>\n",
       "      <td>14.051125</td>\n",
       "      <td>22.015917</td>\n",
       "    </tr>\n",
       "    <tr>\n",
       "      <th>std</th>\n",
       "      <td>3.559358</td>\n",
       "      <td>4.797057</td>\n",
       "    </tr>\n",
       "    <tr>\n",
       "      <th>min</th>\n",
       "      <td>8.630000</td>\n",
       "      <td>15.687000</td>\n",
       "    </tr>\n",
       "    <tr>\n",
       "      <th>25%</th>\n",
       "      <td>11.895250</td>\n",
       "      <td>18.716750</td>\n",
       "    </tr>\n",
       "    <tr>\n",
       "      <th>50%</th>\n",
       "      <td>14.356500</td>\n",
       "      <td>21.017500</td>\n",
       "    </tr>\n",
       "    <tr>\n",
       "      <th>75%</th>\n",
       "      <td>16.200750</td>\n",
       "      <td>24.051500</td>\n",
       "    </tr>\n",
       "    <tr>\n",
       "      <th>max</th>\n",
       "      <td>22.328000</td>\n",
       "      <td>35.255000</td>\n",
       "    </tr>\n",
       "  </tbody>\n",
       "</table>\n",
       "</div>"
      ],
      "text/plain": [
       "       Congruent  Incongruent\n",
       "count  24.000000    24.000000\n",
       "mean   14.051125    22.015917\n",
       "std     3.559358     4.797057\n",
       "min     8.630000    15.687000\n",
       "25%    11.895250    18.716750\n",
       "50%    14.356500    21.017500\n",
       "75%    16.200750    24.051500\n",
       "max    22.328000    35.255000"
      ]
     },
     "execution_count": 5,
     "metadata": {},
     "output_type": "execute_result"
    }
   ],
   "source": [
    "df.describe()"
   ]
  },
  {
   "cell_type": "markdown",
   "metadata": {},
   "source": [
    "Measure of the center:\n",
    "\n",
    "- Mean: Congruent (14.05), Incongruent (22.02)\n",
    "- Median: Congruent (14.36), Incongruent (21.02)\n",
    "\n",
    "Measures of spread/variability:\n",
    "\n",
    "- Std dev: Congruent (3.56), Incongruent (4.80)\n",
    "- IQR (Inter-quartile range): Congruent (4.30), Incongruent (5.33)"
   ]
  },
  {
   "cell_type": "markdown",
   "metadata": {},
   "source": [
    "Let us now look at the distributions of both the Congruent and Incongruent observations."
   ]
  },
  {
   "cell_type": "code",
   "execution_count": 19,
   "metadata": {},
   "outputs": [
    {
     "data": {
      "text/plain": [
       "<matplotlib.legend.Legend at 0x7f07216ebe10>"
      ]
     },
     "execution_count": 19,
     "metadata": {},
     "output_type": "execute_result"
    },
    {
     "data": {
      "image/png": "[encoded data removed]",
      "text/plain": [
       "<matplotlib.figure.Figure at 0x7f072195c668>"
      ]
     },
     "metadata": {},
     "output_type": "display_data"
    }
   ],
   "source": [
    "import matplotlib.pyplot as plt\n",
    "%matplotlib inline\n",
    "\n",
    "# Build the visualizations here\n",
    "bins = 10\n",
    "plt.hist(df['Congruent'], bins, alpha=0.5, label='Congruent')\n",
    "plt.hist(df['Incongruent'], bins, alpha=0.5, label='Incongruent')\n",
    "plt.legend(loc='upper right')"
   ]
  },
  {
   "cell_type": "markdown",
   "metadata": {},
   "source": [
    "From the above histogram of the distributions, firstly we can see that there is a degree of overlap between the two distributions. But we can also see that the Incongruent samples are clearly at the higher end of the reaction times, and the Congruent samples are clearly in the lower end of reaction times.\n",
    "\n",
    "We can also see that with the Incongruent samples, there are some small outliers at the top end of the reaction times.\n",
    "\n",
    "Let us also plot boxplot's for each of these samples to further explore each distribution and help us predict the outcome of our hypothesis test:"
   ]
  },
  {
   "cell_type": "code",
   "execution_count": 23,
   "metadata": {},
   "outputs": [
    {
     "data": {
      "image/png": "[encoded data removed]",
      "text/plain": [
       "<matplotlib.figure.Figure at 0x7f07215dba20>"
      ]
     },
     "metadata": {},
     "output_type": "display_data"
    }
   ],
   "source": [
    "df.boxplot(figsize=(8,8), grid=True, widths=0.9)\n",
    "plt.title('Congruent v Incongruent')\n",
    "plt.ylabel('Time')\n",
    "plt.show()"
   ]
  },
  {
   "cell_type": "markdown",
   "metadata": {},
   "source": [
    "From the boxplot's we can see that not only is the median of the Incongruent samples bigger than the Congruent, but the entire inter-quartile range of the Incongruent samples is bigger than the inter-quartile range of the Congruent samples. This suggest a significant difference betweem the two samples.\n",
    "\n",
    "On the basis of these observations of our sample data, we would predict that when we do our t-test that there will be a statisically significant difference in the two populations i.e. that the population mean for the Incongruent samples will be greater than for the population mean of the Congruent samples - therefore we would predict we will end up rejecting the null hypothesis (and therby confirm the stroop effect)."
   ]
  },
  {
   "cell_type": "markdown",
   "metadata": {},
   "source": [
    "We will now perform the statistical test."
   ]
  },
  {
   "cell_type": "code",
   "execution_count": 25,
   "metadata": {},
   "outputs": [
    {
     "data": {
      "text/plain": [
       "Ttest_relResult(statistic=-8.020706944109957, pvalue=4.1030005857111781e-08)"
      ]
     },
     "execution_count": 25,
     "metadata": {},
     "output_type": "execute_result"
    }
   ],
   "source": [
    "import scipy.stats as stats\n",
    "\n",
    "# Perform the statistical test here\n",
    "\n",
    "congruentVals = df['Congruent'].values.tolist()\n",
    "incongruentVals = df['Incongruent'].values.tolist()\n",
    "\n",
    "stats.ttest_rel(congruentVals,incongruentVals)"
   ]
  },
  {
   "cell_type": "markdown",
   "metadata": {},
   "source": [
    "So this is a two tailed test and our hypothesis is directional (one-sided) so we must divide the pvalue by 2 to get our 97.5% confidence interval. "
   ]
  },
  {
   "cell_type": "code",
   "execution_count": 26,
   "metadata": {},
   "outputs": [
    {
     "data": {
      "text/plain": [
       "2.051500292855589e-08"
      ]
     },
     "execution_count": 26,
     "metadata": {},
     "output_type": "execute_result"
    }
   ],
   "source": [
    "0.000000041030005857111781/2"
   ]
  },
  {
   "cell_type": "markdown",
   "metadata": {},
   "source": [
    "**Given that this p value is well below our 0.025 type 1 error rate, therefore we reject the null hypothesis - and confirm the observation of the stroop effect in this analysis.**\n",
    "\n",
    "### Conclusion\n",
    "\n",
    "This result was consistant with the earlier predictions we made about the likely result of the t-test. The mean of the observed values does seem like a good statistic to use for observing this effect."
   ]
  },
  {
   "cell_type": "markdown",
   "metadata": {},
   "source": [
    "Most scholars believe that the stroop effect is due to differences in the way our brain works with regard to reading and colour recognition. In particular, that one part of the brain is involved in recognising words and a different part of the brain is involved in underdstanding colour. Furthermore, they theorise that reading words occurs almost automatically wheras understanding colour requires more cognitive effort. \n",
    "\n",
    "It is beleived that the stroop effect is a result of these two processing systems in the brain coming into conflict (or interference). Therefore, the difficulty of understanding is increased as a result of the conflicting sources of information, and therby the time taken to resolve those differences is also increased. (see MacLeod, Colin M (1991)).\n",
    "\n",
    "Similar tasks that could produce a similar effect i.e. a similar conflict between these parts of the brain could be for example a picture-word interferece task (see MacLeod, Colin M (2015)), where a conflicting word is embedded in a picture - for example the word 'elephant' inside the picture of a sheep. Another variation is where words are matched to geometric shapes shortly after the words. The matching speed is slowed by incongruent shapes being present at the time of word presentation. (Compton & Flowers (1977))."
   ]
  },
  {
   "cell_type": "markdown",
   "metadata": {},
   "source": [
    "### References\n",
    "\n",
    "Bart, J. et al. (1998). Sampling and statistical methods for behavioural ecologists. Cambridge University Press, Cambridge.\n",
    "\n",
    "http://assets.cambridge.org/97805214/50959/sample/9780521450959web.pdf\n",
    "\n",
    "MacLeod, Colin M (1991). Half a Century of Research on the Stroop Effect: AN Integrative Review\n",
    "\n",
    "http://melaniestefan.net/MacLeod1991.pdf\n",
    "\n",
    "MacLeod, Colin M (2015). The Stroop Effect\n",
    "\n",
    "http://imbs.uci.edu/~kjameson/ECST/MacLeod_TheStroopEffect.pdf\n",
    "\n",
    "Compton, R. E, & Flowers, J. H. (1977). Pictorial interference with geometric shapes and achromatic shades. PerceptionandPsychophys- ics, 22, 303-309.\n",
    "\n",
    "http://digitalcommons.unl.edu/cgi/viewcontent.cgi?article=1467&context=psychfacpub"
   ]
  }
 ],
 "metadata": {
  "kernelspec": {
   "display_name": "Python 3",
   "language": "python",
   "name": "python3"
  },
  "language_info": {
   "codemirror_mode": {
    "name": "ipython",
    "version": 3
   },
   "file_extension": ".py",
   "mimetype": "text/x-python",
   "name": "python",
   "nbconvert_exporter": "python",
   "pygments_lexer": "ipython3",
   "version": "3.6.6"
  }
 },
 "nbformat": 4,
 "nbformat_minor": 2
}
